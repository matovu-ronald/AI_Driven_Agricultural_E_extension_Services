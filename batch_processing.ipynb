{
 "cells": [
  {
   "cell_type": "code",
   "execution_count": 5,
   "metadata": {},
   "outputs": [],
   "source": [
    "import pandas as pd\n",
    "import json\n",
    "import os"
   ]
  },
  {
   "cell_type": "code",
   "execution_count": 6,
   "metadata": {},
   "outputs": [],
   "source": [
    "# Load your dataset\n",
    "df = pd.read_csv('data/EDA_outputs/kcc_dataset_QA_cleaned_60K.csv')"
   ]
  },
  {
   "cell_type": "code",
   "execution_count": 7,
   "metadata": {},
   "outputs": [
    {
     "data": {
      "text/html": [
       "<div>\n",
       "<style scoped>\n",
       "    .dataframe tbody tr th:only-of-type {\n",
       "        vertical-align: middle;\n",
       "    }\n",
       "\n",
       "    .dataframe tbody tr th {\n",
       "        vertical-align: top;\n",
       "    }\n",
       "\n",
       "    .dataframe thead th {\n",
       "        text-align: right;\n",
       "    }\n",
       "</style>\n",
       "<table border=\"1\" class=\"dataframe\">\n",
       "  <thead>\n",
       "    <tr style=\"text-align: right;\">\n",
       "      <th></th>\n",
       "      <th>QueryText</th>\n",
       "      <th>KccAns</th>\n",
       "    </tr>\n",
       "  </thead>\n",
       "  <tbody>\n",
       "    <tr>\n",
       "      <th>0</th>\n",
       "      <td>GROUNDNUT VERITIES</td>\n",
       "      <td>GROUNDNUT VERITIES -TAG 24 TG 26</td>\n",
       "    </tr>\n",
       "    <tr>\n",
       "      <th>1</th>\n",
       "      <td>ASKED ABOUT SOWING TIME OF GROUND NUT</td>\n",
       "      <td>SOWING TIME OF GROUND NUT-IT GENERALLY CULTIVA...</td>\n",
       "    </tr>\n",
       "    <tr>\n",
       "      <th>2</th>\n",
       "      <td>TELL ME CONTROL LAT IN GROUNDNUT</td>\n",
       "      <td>SPRAY OF PROFENOFOS 15 ML PER LITER WATER</td>\n",
       "    </tr>\n",
       "    <tr>\n",
       "      <th>3</th>\n",
       "      <td>weed management in groundnut</td>\n",
       "      <td>hand weeding</td>\n",
       "    </tr>\n",
       "    <tr>\n",
       "      <th>4</th>\n",
       "      <td>Farmer wants to know about fungal disease mana...</td>\n",
       "      <td>--                -</td>\n",
       "    </tr>\n",
       "  </tbody>\n",
       "</table>\n",
       "</div>"
      ],
      "text/plain": [
       "                                           QueryText  \\\n",
       "0                                 GROUNDNUT VERITIES   \n",
       "1              ASKED ABOUT SOWING TIME OF GROUND NUT   \n",
       "2                   TELL ME CONTROL LAT IN GROUNDNUT   \n",
       "3                       weed management in groundnut   \n",
       "4  Farmer wants to know about fungal disease mana...   \n",
       "\n",
       "                                              KccAns  \n",
       "0                   GROUNDNUT VERITIES -TAG 24 TG 26  \n",
       "1  SOWING TIME OF GROUND NUT-IT GENERALLY CULTIVA...  \n",
       "2          SPRAY OF PROFENOFOS 15 ML PER LITER WATER  \n",
       "3                                       hand weeding  \n",
       "4                                --                -  "
      ]
     },
     "execution_count": 7,
     "metadata": {},
     "output_type": "execute_result"
    }
   ],
   "source": [
    "df.head()"
   ]
  },
  {
   "cell_type": "code",
   "execution_count": 9,
   "metadata": {},
   "outputs": [
    {
     "name": "stdout",
     "output_type": "stream",
     "text": [
      "Batch file 'batches/batch_tasks_queries_1.jsonl' created successfully.\n",
      "Batch file 'batches/batch_tasks_queries_2.jsonl' created successfully.\n",
      "Batch file 'batches/batch_tasks_queries_3.jsonl' created successfully.\n",
      "Batch file 'batches/batch_tasks_queries_4.jsonl' created successfully.\n",
      "Batch file 'batches/batch_tasks_queries_5.jsonl' created successfully.\n",
      "Batch file 'batches/batch_tasks_queries_6.jsonl' created successfully.\n",
      "Batch file 'batches/batch_tasks_queries_7.jsonl' created successfully.\n",
      "Batch file 'batches/batch_tasks_queries_8.jsonl' created successfully.\n",
      "Batch file 'batches/batch_tasks_queries_9.jsonl' created successfully.\n",
      "Batch file 'batches/batch_tasks_queries_10.jsonl' created successfully.\n",
      "Batch file 'batches/batch_tasks_queries_11.jsonl' created successfully.\n",
      "Batch file 'batches/batch_tasks_queries_12.jsonl' created successfully.\n",
      "Batch file 'batches/batch_tasks_queries_13.jsonl' created successfully.\n",
      "Batch file 'batches/batch_tasks_queries_14.jsonl' created successfully.\n",
      "Batch file 'batches/batch_tasks_queries_15.jsonl' created successfully.\n"
     ]
    }
   ],
   "source": [
    "# Configuration for splitting into smaller batches\n",
    "batch_size = 6000  # Adjust the batch size based on your limit and data size\n",
    "batch_number = 1\n",
    "batch_dir = \"batches\"\n",
    "\n",
    "# Create a directory to store the batch files\n",
    "if not os.path.exists(batch_dir):\n",
    "    os.makedirs(batch_dir)\n",
    "\n",
    "for start in range(0, len(df), batch_size):\n",
    "    end = start + batch_size\n",
    "    batch_df = df[start:end]\n",
    "    \n",
    "    # Create the JSONL batch file\n",
    "    batch_tasks = []\n",
    "\n",
    "    for index, row in batch_df.iterrows():\n",
    "        question = row['QueryText']\n",
    "        answer = row['KccAns']\n",
    "        task = {\n",
    "            \"custom_id\": f\"task-{start + index}\",\n",
    "            \"method\": \"POST\",\n",
    "            \"url\": \"/v1/chat/completions\",\n",
    "            \"body\": {\n",
    "                \"model\": \"gpt-4o-mini\",\n",
    "                \"messages\": [\n",
    "                    {\"role\": \"system\", \"content\": \"You are a helpful assistant that corrects grammar while preserving the original meaning.\"},\n",
    "                    {\"role\": \"user\", \"content\": f\"Correct the grammar of the following answer based on the question '{question}', maintaining its original meaning. Use lowercase letters. In case the answer is empty or has symbols and numbers, provide a suitable answer to the farmer's question: '{answer}'\"}\n",
    "                ]\n",
    "            }\n",
    "        }\n",
    "        batch_tasks.append(task)\n",
    "\n",
    "    # Write the tasks to a .jsonl file\n",
    "    batch_file_name = os.path.join(batch_dir, f\"batch_tasks_queries_{batch_number}.jsonl\")\n",
    "\n",
    "    with open(batch_file_name, 'w') as file:\n",
    "        for task in batch_tasks:\n",
    "            file.write(json.dumps(task) + '\\n')\n",
    "\n",
    "    print(f\"Batch file '{batch_file_name}' created successfully.\")\n",
    "    batch_number += 1\n"
   ]
  },
  {
   "cell_type": "code",
   "execution_count": 3,
   "metadata": {},
   "outputs": [
    {
     "name": "stdout",
     "output_type": "stream",
     "text": [
      "Batch file 'batch_tasks_queries.jsonl' created successfully.\n"
     ]
    }
   ],
   "source": [
    "# Create the JSONL batch file\n",
    "batch_tasks = []\n",
    "\n",
    "for index, row in df.iterrows():\n",
    "    question = row['QueryText']\n",
    "    answer = row['KccAns']\n",
    "    task = {\n",
    "        \"custom_id\": f\"task-{index}\",\n",
    "        \"method\": \"POST\",\n",
    "        \"url\": \"/v1/chat/completions\",\n",
    "        \"body\": {\n",
    "            \"model\": \"gpt-4o-mini\",\n",
    "            \"messages\": [\n",
    "                {\"role\": \"system\", \"content\": \"You are a helpful assistant that corrects grammar while preserving the original meaning.\"},\n",
    "                {\"role\": \"user\", \"content\": f\"Correct the grammar of the following answer based on the question '{question}', maintaining its original meaning. Use lowercase letters. In case the answer is empty or has symbols and numbers, provide a suitable answer to the farmer's question: '{answer}'\"}\n",
    "            ]\n",
    "        }\n",
    "    }\n",
    "    batch_tasks.append(task)\n",
    "\n",
    "# Write the tasks to a .jsonl file\n",
    "file_name = \"batch_tasks_queries.jsonl\"\n",
    "\n",
    "with open(file_name, 'w') as file:\n",
    "    for task in batch_tasks:\n",
    "        file.write(json.dumps(task) + '\\n')\n",
    "\n",
    "print(f\"Batch file '{file_name}' created successfully.\")\n"
   ]
  },
  {
   "cell_type": "code",
   "execution_count": null,
   "metadata": {},
   "outputs": [],
   "source": [
    "{\"custom_id\": \"task-0\", \"method\": \"POST\", \"url\": \"/v1/chat/completions\", \"body\": {\"model\": \"gpt-4o-mini\", \"messages\": [{\"role\": \"system\", \"content\": \"You are a helpful assistant that corrects grammar while preserving the original meaning.\"}, {\"role\": \"user\", \"content\": \"Correct the grammar of the following answer based on the question 'GROUNDNUT VERITIES', maintaining its original meaning. Use lowercase letters. In case the answer is empty or has symbols and numbers, provide a suitable answer to the farmer's question: 'GROUNDNUT VERITIES -TAG 24 TG 26'\"}]}}"
   ]
  }
 ],
 "metadata": {
  "kernelspec": {
   "display_name": "base",
   "language": "python",
   "name": "python3"
  },
  "language_info": {
   "codemirror_mode": {
    "name": "ipython",
    "version": 3
   },
   "file_extension": ".py",
   "mimetype": "text/x-python",
   "name": "python",
   "nbconvert_exporter": "python",
   "pygments_lexer": "ipython3",
   "version": "3.12.4"
  }
 },
 "nbformat": 4,
 "nbformat_minor": 2
}

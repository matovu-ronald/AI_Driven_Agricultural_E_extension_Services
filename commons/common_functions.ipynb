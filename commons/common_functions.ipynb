{
 "cells": [
  {
   "cell_type": "code",
   "execution_count": 3,
   "metadata": {},
   "outputs": [],
   "source": [
    "# Create a function for inference of the model\n",
    "\n",
    "\n",
    "def model_inference(text, model, tokenizer, max_input_tokens = 1000, max_output_tokens = 500):\n",
    "    # Tokenizer the input text\n",
    "    input_ids = tokenizer.encode(text, return_tensors='pt', truncation=True, max_length=max_input_tokens)\n",
    "\n",
    "    # Generate the output\n",
    "    device = model.device\n",
    "    generated_tokens = model.generate(input_ids.to(device), max_length=max_output_tokens)\n",
    "\n",
    "    # Decode the output\n",
    "    generated_text = tokenizer.batch_decode(generated_tokens, skip_special_tokens=True)\n",
    "\n",
    "    # Truncate the output\n",
    "    generated_text_answer = generated_text[0][len(text):]\n",
    "\n",
    "    # Return the generated text\n",
    "    return generated_text_answer\n"
   ]
  },
  {
   "cell_type": "code",
   "execution_count": null,
   "metadata": {},
   "outputs": [],
   "source": []
  }
 ],
 "metadata": {
  "kernelspec": {
   "display_name": "base",
   "language": "python",
   "name": "python3"
  },
  "language_info": {
   "codemirror_mode": {
    "name": "ipython",
    "version": 3
   },
   "file_extension": ".py",
   "mimetype": "text/x-python",
   "name": "python",
   "nbconvert_exporter": "python",
   "pygments_lexer": "ipython3",
   "version": "3.11.5"
  }
 },
 "nbformat": 4,
 "nbformat_minor": 2
}
